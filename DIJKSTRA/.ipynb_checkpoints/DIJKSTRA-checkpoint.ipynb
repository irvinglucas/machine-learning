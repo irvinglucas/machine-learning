{
 "cells": [
  {
   "cell_type": "code",
   "execution_count": 43,
   "metadata": {},
   "outputs": [
    {
     "name": "stdout",
     "output_type": "stream",
     "text": [
      "Digite o número de vértices: 5\n",
      "Grafo criado. Agora adicione arestas ao grafo.\n"
     ]
    }
   ],
   "source": [
    "#algoritmo de dijkstra\n",
    "import numpy as np\n",
    "\n",
    "#inicializando o grafo\n",
    "\n",
    "numeroVertices = int(input(\"Digite o número de vértices: \"))\n",
    "print(\"Grafo criado. Agora adicione arestas ao grafo.\")\n",
    "                     \n",
    "vertices = np.zeros((numeroVertices,2), dtype=np.int64, order='C')\n",
    "arestas = np.zeros((numeroVertices,numeroVertices,2), dtype=np.int64, order='F')\n",
    "\n",
    "#adiciona uma aresta ao grafo. não adiciona vértice\n",
    "def adicionar(vertice1, vertice2, custo):\n",
    "    if vertice1 == vertice2 or (vertice1 and vertice2) >=5:\n",
    "        return \"Não foi possível adicionar uma aresta.\"\n",
    "    \n",
    "    elif arestas[vertice1-1][vertice2-1][0]==1:\n",
    "        return \"Já existe uma aresta\"\n",
    "        \n",
    "    else:\n",
    "        arestas[vertice1-1][vertice2-1][0][0]=1\n",
    "        arestas[vertice1-1][vertice2-1][0][1]=custo\n",
    "        return \"Aresta adicionada\"\n",
    "\n",
    "#modifica apenas o custo da aresta\n",
    "def modificar(vertice1, vertice2, custo):\n",
    "    if vertice1 == vertice2 or (vertice1 and vertice2) >=5:\n",
    "        return \"Não existe uma aresta para este vértice\"\n",
    "    \n",
    "    else:\n",
    "        arestas[vertice1-1][vertice2-1][1]=custo\n",
    "        return \"Custo da aresta modificado\"\n",
    "        \n",
    "#remove uma aresta do grafo. não adiciona vértice\n",
    "def remover(vertice1, vertice2):\n",
    "    if vertice1 == vertice2 or (vertice1 and vertice2) >=5:\n",
    "        return \"Não foi possível remover uma aresta para o próprio vértice.\"\n",
    "    \n",
    "    else:\n",
    "        arestas[vertice1-1][vertice2-1][0]=0\n",
    "        arestas[vertice1-1][vertice2-1][1]=0\n",
    "        return \"Aresta removida.\"\n",
    "    \n",
    "def verificar(vertice1,vertice2):\n",
    "    if arestas[vertice1-1][vertice2-1][0]==1:\n",
    "        return \"Já existe uma aresta\"\n",
    "    \n",
    "def calcularDistancia(inicio,fim):\n",
    "    verticeAtual = None\n",
    "    vertice[inicio][0]=0\n",
    "    vertice[inicio][1]=-1\n",
    "    \n",
    "    for i in arestas:\n",
    "        if aresta[inicio][i][0]==1:\n",
    "            #pegar o valor do custo e atualizar a tabela de vertice"
   ]
  },
  {
   "cell_type": "code",
   "execution_count": 39,
   "metadata": {},
   "outputs": [
    {
     "name": "stdout",
     "output_type": "stream",
     "text": [
      "[[[ 0 10]\n",
      "  [ 0  0]\n",
      "  [ 0  0]\n",
      "  [ 0  0]]\n",
      "\n",
      " [[ 0  0]\n",
      "  [ 0  0]\n",
      "  [ 0  0]\n",
      "  [ 0  0]]\n",
      "\n",
      " [[ 0  0]\n",
      "  [ 0  0]\n",
      "  [ 0  0]\n",
      "  [ 0  0]]\n",
      "\n",
      " [[ 0  0]\n",
      "  [ 0  0]\n",
      "  [ 0  0]\n",
      "  [ 0  0]]]\n"
     ]
    }
   ],
   "source": [
    "teste = 10\n",
    "arestas[0][0][1]=teste\n",
    "print(arestas)"
   ]
  },
  {
   "cell_type": "code",
   "execution_count": 44,
   "metadata": {},
   "outputs": [
    {
     "name": "stdout",
     "output_type": "stream",
     "text": [
      "digite o vértice inicial: 1\n",
      "Adicionar arestas >>>\n",
      "Digite o primeiro vértice(-1 para sair): 1\n",
      "Digite o segundo vértice: 2\n",
      "Digite o custo da aresta: 5\n",
      "Aresta adicionada\n",
      "Digite o primeiro vértice(-1 para sair): 1\n",
      "Digite o segundo vértice: 3\n",
      "Digite o custo da aresta: 4\n",
      "Aresta adicionada\n",
      "Digite o primeiro vértice(-1 para sair): 5\n",
      "Digite o segundo vértice: 2\n",
      "Digite o custo da aresta: 5\n",
      "Aresta adicionada\n",
      "Digite o primeiro vértice(-1 para sair): 1\n",
      "Digite o segundo vértice: 4\n",
      "Digite o custo da aresta: 10\n",
      "Aresta adicionada\n",
      "Digite o primeiro vértice(-1 para sair): 2\n",
      "Digite o segundo vértice: 3\n",
      "Digite o custo da aresta: 34\n",
      "Aresta adicionada\n",
      "Digite o primeiro vértice(-1 para sair): -1\n"
     ]
    }
   ],
   "source": [
    "#configuração da busca e adição das arestas\n",
    "inicio = int(input(\"digite o vértice inicial: \"))\n",
    "vertices[inicio-1][0]=0\n",
    "vertices[inicio-1][1]=-1\n",
    "\n",
    "print(\"Adicionar arestas >>>\")\n",
    "\n",
    "while(True):\n",
    "    vertice1=int(input(\"Digite o primeiro vértice(-1 para sair): \"))\n",
    "    if vertice1==-1:\n",
    "        break\n",
    "    vertice2=int(input(\"Digite o segundo vértice: \"))\n",
    "    custo=int(input(\"Digite o custo da aresta: \"))\n",
    "    if vertice1 == vertice2:\n",
    "        print(\"Não foi possível adicionar uma aresta para o próprio vértice.\")\n",
    "    \n",
    "    elif arestas[vertice1-1][vertice2-1][0]==1:\n",
    "        print(\"Já existe uma aresta\")\n",
    "        \n",
    "    else:\n",
    "        arestas[vertice1-1][vertice2-1][0]=1\n",
    "        arestas[vertice1-1][vertice2-1][1]=custo\n",
    "        print(\"Aresta adicionada\")"
   ]
  },
  {
   "cell_type": "markdown",
   "metadata": {},
   "source": [
    " "
   ]
  },
  {
   "cell_type": "code",
   "execution_count": 45,
   "metadata": {},
   "outputs": [
    {
     "data": {
      "text/plain": [
       "array([[[ 0,  0],\n",
       "        [ 1,  5],\n",
       "        [ 1,  4],\n",
       "        [ 1, 10],\n",
       "        [ 0,  0]],\n",
       "\n",
       "       [[ 0,  0],\n",
       "        [ 0,  0],\n",
       "        [ 1, 34],\n",
       "        [ 0,  0],\n",
       "        [ 0,  0]],\n",
       "\n",
       "       [[ 0,  0],\n",
       "        [ 0,  0],\n",
       "        [ 0,  0],\n",
       "        [ 0,  0],\n",
       "        [ 0,  0]],\n",
       "\n",
       "       [[ 0,  0],\n",
       "        [ 0,  0],\n",
       "        [ 0,  0],\n",
       "        [ 0,  0],\n",
       "        [ 0,  0]],\n",
       "\n",
       "       [[ 0,  0],\n",
       "        [ 1,  5],\n",
       "        [ 0,  0],\n",
       "        [ 0,  0],\n",
       "        [ 0,  0]]], dtype=int64)"
      ]
     },
     "execution_count": 45,
     "metadata": {},
     "output_type": "execute_result"
    }
   ],
   "source": [
    "arestas"
   ]
  },
  {
   "cell_type": "code",
   "execution_count": null,
   "metadata": {},
   "outputs": [],
   "source": []
  }
 ],
 "metadata": {
  "kernelspec": {
   "display_name": "Python 3",
   "language": "python",
   "name": "python3"
  },
  "language_info": {
   "codemirror_mode": {
    "name": "ipython",
    "version": 3
   },
   "file_extension": ".py",
   "mimetype": "text/x-python",
   "name": "python",
   "nbconvert_exporter": "python",
   "pygments_lexer": "ipython3",
   "version": "3.7.1"
  }
 },
 "nbformat": 4,
 "nbformat_minor": 2
}
