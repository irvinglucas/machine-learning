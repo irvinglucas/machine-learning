{
 "cells": [
  {
   "cell_type": "code",
   "execution_count": 1,
   "metadata": {
    "scrolled": true
   },
   "outputs": [
    {
     "name": "stdout",
     "output_type": "stream",
     "text": [
      "Diretorio do data-set: C:\\Users\\irvin\\Projetos\\machine-learning\\DECISION TREE\\black-friday.xlsx\n",
      "dataset carregado em: 2.14 minutos\n"
     ]
    }
   ],
   "source": [
    "#\n",
    "# Árvore de Decisão - dataset: Black-Friday\n",
    "# author: Irving Lucas (irving.lucas@gmail.com)\n",
    "# OBS:\n",
    "# coloque o dataset no diretório raiz desse código e modifique o nome do arquivo xlsx na linha 9\n",
    "# manter apenas os imports necessários para essa parte do código\n",
    "#\n",
    "\n",
    "import os\n",
    "import time as t\n",
    "import pandas as pd\n",
    "\n",
    "diretorio_dataset = os.getcwd()\n",
    "diretorio_dataset +=r\"\\black-friday.xlsx\"\n",
    "print(\"Diretorio do data-set: \" + diretorio_dataset)\n",
    "inicio = t.time()\n",
    "data_frame = pd.read_excel(diretorio_dataset)\n",
    "fim = t.time()\n",
    "tempo = fim-inicio\n",
    "print(\"dataset carregado em: %.2f minutos\" %(tempo/60))"
   ]
  },
  {
   "cell_type": "code",
   "execution_count": 2,
   "metadata": {},
   "outputs": [
    {
     "data": {
      "text/plain": [
       "5891"
      ]
     },
     "execution_count": 2,
     "metadata": {},
     "output_type": "execute_result"
    }
   ],
   "source": [
    "len(data_frame.User_ID.unique())"
   ]
  },
  {
   "cell_type": "code",
   "execution_count": 3,
   "metadata": {},
   "outputs": [
    {
     "data": {
      "text/plain": [
       "<matplotlib.axes._subplots.AxesSubplot at 0x19b65974cf8>"
      ]
     },
     "execution_count": 3,
     "metadata": {},
     "output_type": "execute_result"
    }
   ],
   "source": [
    "import seaborn as sns\n",
    "sns.heatmap(data_frame.corr(), annot=True)"
   ]
  },
  {
   "cell_type": "code",
   "execution_count": 4,
   "metadata": {},
   "outputs": [],
   "source": [
    "#dataframe_treino=frame com informações necessarias para treino // dataset_classes=conjunto de classes que queremos prever\n",
    "\n",
    "dataframe_treino = data_frame[['User_ID','Age','Gender','Occupation','City_Category','Marital_Status']]\n",
    "#dataframe_classes = data_frame['Age']\n",
    "\n",
    "#dataframe_treino.head()\n",
    "\n",
    "#dataframe_treino.drop_duplicates()"
   ]
  },
  {
   "cell_type": "code",
   "execution_count": 5,
   "metadata": {},
   "outputs": [
    {
     "data": {
      "text/html": [
       "<div>\n",
       "<style scoped>\n",
       "    .dataframe tbody tr th:only-of-type {\n",
       "        vertical-align: middle;\n",
       "    }\n",
       "\n",
       "    .dataframe tbody tr th {\n",
       "        vertical-align: top;\n",
       "    }\n",
       "\n",
       "    .dataframe thead th {\n",
       "        text-align: right;\n",
       "    }\n",
       "</style>\n",
       "<table border=\"1\" class=\"dataframe\">\n",
       "  <thead>\n",
       "    <tr style=\"text-align: right;\">\n",
       "      <th></th>\n",
       "      <th>User_ID</th>\n",
       "      <th>Age</th>\n",
       "      <th>Gender</th>\n",
       "      <th>Occupation</th>\n",
       "      <th>City_Category</th>\n",
       "      <th>Marital_Status</th>\n",
       "    </tr>\n",
       "  </thead>\n",
       "  <tbody>\n",
       "    <tr>\n",
       "      <th>0</th>\n",
       "      <td>1000001</td>\n",
       "      <td>0-17</td>\n",
       "      <td>F</td>\n",
       "      <td>10</td>\n",
       "      <td>A</td>\n",
       "      <td>0</td>\n",
       "    </tr>\n",
       "    <tr>\n",
       "      <th>1</th>\n",
       "      <td>1000001</td>\n",
       "      <td>0-17</td>\n",
       "      <td>F</td>\n",
       "      <td>10</td>\n",
       "      <td>A</td>\n",
       "      <td>0</td>\n",
       "    </tr>\n",
       "    <tr>\n",
       "      <th>2</th>\n",
       "      <td>1000001</td>\n",
       "      <td>0-17</td>\n",
       "      <td>F</td>\n",
       "      <td>10</td>\n",
       "      <td>A</td>\n",
       "      <td>0</td>\n",
       "    </tr>\n",
       "  </tbody>\n",
       "</table>\n",
       "</div>"
      ],
      "text/plain": [
       "   User_ID   Age Gender  Occupation City_Category  Marital_Status\n",
       "0  1000001  0-17      F          10             A               0\n",
       "1  1000001  0-17      F          10             A               0\n",
       "2  1000001  0-17      F          10             A               0"
      ]
     },
     "execution_count": 5,
     "metadata": {},
     "output_type": "execute_result"
    }
   ],
   "source": [
    "dataframe_treino.head(3)"
   ]
  },
  {
   "cell_type": "code",
   "execution_count": 6,
   "metadata": {},
   "outputs": [],
   "source": [
    "#dataframe_treino.sort_values(by=['User_ID'])"
   ]
  },
  {
   "cell_type": "code",
   "execution_count": 7,
   "metadata": {},
   "outputs": [],
   "source": [
    "dataframe_treino = dataframe_treino.drop_duplicates(subset='User_ID', keep='first') #melhor biblioteca da vida\n",
    "#dividir o dataset de treino e classes para separar uma parte para treinar de fato e outra para testar"
   ]
  },
  {
   "cell_type": "code",
   "execution_count": 8,
   "metadata": {},
   "outputs": [
    {
     "data": {
      "text/plain": [
       "5891"
      ]
     },
     "execution_count": 8,
     "metadata": {},
     "output_type": "execute_result"
    }
   ],
   "source": [
    "dataframe_treino['User_ID'].count()"
   ]
  },
  {
   "cell_type": "code",
   "execution_count": 9,
   "metadata": {},
   "outputs": [
    {
     "data": {
      "text/html": [
       "<div>\n",
       "<style scoped>\n",
       "    .dataframe tbody tr th:only-of-type {\n",
       "        vertical-align: middle;\n",
       "    }\n",
       "\n",
       "    .dataframe tbody tr th {\n",
       "        vertical-align: top;\n",
       "    }\n",
       "\n",
       "    .dataframe thead th {\n",
       "        text-align: right;\n",
       "    }\n",
       "</style>\n",
       "<table border=\"1\" class=\"dataframe\">\n",
       "  <thead>\n",
       "    <tr style=\"text-align: right;\">\n",
       "      <th></th>\n",
       "      <th>User_ID</th>\n",
       "      <th>Age</th>\n",
       "      <th>Gender</th>\n",
       "      <th>Occupation</th>\n",
       "      <th>City_Category</th>\n",
       "      <th>Marital_Status</th>\n",
       "    </tr>\n",
       "  </thead>\n",
       "  <tbody>\n",
       "    <tr>\n",
       "      <th>0</th>\n",
       "      <td>1000001</td>\n",
       "      <td>0-17</td>\n",
       "      <td>F</td>\n",
       "      <td>10</td>\n",
       "      <td>A</td>\n",
       "      <td>0</td>\n",
       "    </tr>\n",
       "    <tr>\n",
       "      <th>4</th>\n",
       "      <td>1000002</td>\n",
       "      <td>55+</td>\n",
       "      <td>M</td>\n",
       "      <td>16</td>\n",
       "      <td>C</td>\n",
       "      <td>0</td>\n",
       "    </tr>\n",
       "    <tr>\n",
       "      <th>5</th>\n",
       "      <td>1000003</td>\n",
       "      <td>26-35</td>\n",
       "      <td>M</td>\n",
       "      <td>15</td>\n",
       "      <td>A</td>\n",
       "      <td>0</td>\n",
       "    </tr>\n",
       "  </tbody>\n",
       "</table>\n",
       "</div>"
      ],
      "text/plain": [
       "   User_ID    Age Gender  Occupation City_Category  Marital_Status\n",
       "0  1000001   0-17      F          10             A               0\n",
       "4  1000002    55+      M          16             C               0\n",
       "5  1000003  26-35      M          15             A               0"
      ]
     },
     "execution_count": 9,
     "metadata": {},
     "output_type": "execute_result"
    }
   ],
   "source": [
    "dataframe_treino.head(3)"
   ]
  },
  {
   "cell_type": "code",
   "execution_count": 10,
   "metadata": {},
   "outputs": [
    {
     "data": {
      "text/plain": [
       "array(['0-17', '55+', '26-35', '46-50', '51-55', '36-45', '18-25'],\n",
       "      dtype=object)"
      ]
     },
     "execution_count": 10,
     "metadata": {},
     "output_type": "execute_result"
    }
   ],
   "source": [
    "#Coleta apenas a coluna de idade\n",
    "dataframe_classes = dataframe_treino['Age']\n",
    "dataframe_classes.unique()\n",
    "\n",
    "#muda o dtype do objeto\n",
    "#dataframe_classes = dataframe_classes.astype('category') \n",
    "\n",
    "#muda a representação de intervalos de idade para um código. Ex: \"0-17\" -> 0\n",
    "#dataframe_classes = dataframe_classes.cat.codes"
   ]
  },
  {
   "cell_type": "code",
   "execution_count": 11,
   "metadata": {},
   "outputs": [],
   "source": [
    "#dataframe_treino\n",
    "#dataframe_classes.unique()"
   ]
  },
  {
   "cell_type": "code",
   "execution_count": 12,
   "metadata": {},
   "outputs": [],
   "source": [
    "from sklearn.model_selection import train_test_split"
   ]
  },
  {
   "cell_type": "code",
   "execution_count": 13,
   "metadata": {},
   "outputs": [],
   "source": [
    "#dividir o dataset de treino e classes para separar uma parte para treinar de fato e outra para testar\n",
    "x_train, x_test, y_train, y_test = train_test_split(dataframe_treino, dataframe_classes)"
   ]
  },
  {
   "cell_type": "code",
   "execution_count": 14,
   "metadata": {},
   "outputs": [
    {
     "data": {
      "text/html": [
       "<div>\n",
       "<style scoped>\n",
       "    .dataframe tbody tr th:only-of-type {\n",
       "        vertical-align: middle;\n",
       "    }\n",
       "\n",
       "    .dataframe tbody tr th {\n",
       "        vertical-align: top;\n",
       "    }\n",
       "\n",
       "    .dataframe thead th {\n",
       "        text-align: right;\n",
       "    }\n",
       "</style>\n",
       "<table border=\"1\" class=\"dataframe\">\n",
       "  <thead>\n",
       "    <tr style=\"text-align: right;\">\n",
       "      <th></th>\n",
       "      <th>User_ID</th>\n",
       "      <th>Age</th>\n",
       "      <th>Gender</th>\n",
       "      <th>Occupation</th>\n",
       "      <th>City_Category</th>\n",
       "      <th>Marital_Status</th>\n",
       "    </tr>\n",
       "  </thead>\n",
       "  <tbody>\n",
       "    <tr>\n",
       "      <th>9361</th>\n",
       "      <td>1001436</td>\n",
       "      <td>51-55</td>\n",
       "      <td>F</td>\n",
       "      <td>6</td>\n",
       "      <td>B</td>\n",
       "      <td>1</td>\n",
       "    </tr>\n",
       "    <tr>\n",
       "      <th>26198</th>\n",
       "      <td>1004021</td>\n",
       "      <td>51-55</td>\n",
       "      <td>M</td>\n",
       "      <td>20</td>\n",
       "      <td>B</td>\n",
       "      <td>1</td>\n",
       "    </tr>\n",
       "    <tr>\n",
       "      <th>31879</th>\n",
       "      <td>1004887</td>\n",
       "      <td>18-25</td>\n",
       "      <td>M</td>\n",
       "      <td>2</td>\n",
       "      <td>B</td>\n",
       "      <td>1</td>\n",
       "    </tr>\n",
       "    <tr>\n",
       "      <th>16143</th>\n",
       "      <td>1002475</td>\n",
       "      <td>26-35</td>\n",
       "      <td>F</td>\n",
       "      <td>18</td>\n",
       "      <td>A</td>\n",
       "      <td>0</td>\n",
       "    </tr>\n",
       "    <tr>\n",
       "      <th>13355</th>\n",
       "      <td>1001989</td>\n",
       "      <td>51-55</td>\n",
       "      <td>M</td>\n",
       "      <td>6</td>\n",
       "      <td>C</td>\n",
       "      <td>0</td>\n",
       "    </tr>\n",
       "  </tbody>\n",
       "</table>\n",
       "</div>"
      ],
      "text/plain": [
       "       User_ID    Age Gender  Occupation City_Category  Marital_Status\n",
       "9361   1001436  51-55      F           6             B               1\n",
       "26198  1004021  51-55      M          20             B               1\n",
       "31879  1004887  18-25      M           2             B               1\n",
       "16143  1002475  26-35      F          18             A               0\n",
       "13355  1001989  51-55      M           6             C               0"
      ]
     },
     "execution_count": 14,
     "metadata": {},
     "output_type": "execute_result"
    }
   ],
   "source": [
    "x_train.head(5)"
   ]
  },
  {
   "cell_type": "code",
   "execution_count": 15,
   "metadata": {},
   "outputs": [
    {
     "name": "stderr",
     "output_type": "stream",
     "text": [
      "C:\\Users\\irvin\\Anaconda3\\lib\\site-packages\\pandas\\core\\indexing.py:543: SettingWithCopyWarning: \n",
      "A value is trying to be set on a copy of a slice from a DataFrame.\n",
      "Try using .loc[row_indexer,col_indexer] = value instead\n",
      "\n",
      "See the caveats in the documentation: http://pandas.pydata.org/pandas-docs/stable/indexing.html#indexing-view-versus-copy\n",
      "  self.obj[item] = s\n"
     ]
    }
   ],
   "source": [
    "#\n",
    "# ['18-25', '0-17', '55+', '26-35', '46-50', '36-45', '51-55']\n",
    "#executar essa célula apenas uma vez\n",
    "#\n",
    "\n",
    "#fazer verificação dos valores, aparentemente se um dos intervalos não existir no x_train, ele não executa a célula inteira\n",
    "\n",
    "x_train.loc[x_train.Age=='0-17','Age'] = 0\n",
    "x_train.loc[x_train.Age=='18-25','Age'] = 1\n",
    "x_train.loc[x_train.Age=='26-35','Age'] = 2\n",
    "x_train.loc[x_train.Age=='36-45','Age'] = 3\n",
    "x_train.loc[x_train.Age=='46-50','Age'] = 4\n",
    "x_train.loc[x_train.Age=='51-55','Age'] = 5\n",
    "x_train.loc[x_train.Age=='55+','Age'] = 6\n",
    "\n",
    "x_train.loc[x_train.Gender=='F', 'Gender'] = 0\n",
    "x_train.loc[x_train.Gender=='M', 'Gender'] = 1\n",
    "\n",
    "x_train.loc[x_train.City_Category=='A','City_Category'] = 0\n",
    "x_train.loc[x_train.City_Category=='B','City_Category'] = 1\n",
    "x_train.loc[x_train.City_Category=='C','City_Category'] = 2"
   ]
  },
  {
   "cell_type": "code",
   "execution_count": 16,
   "metadata": {},
   "outputs": [
    {
     "data": {
      "text/html": [
       "<div>\n",
       "<style scoped>\n",
       "    .dataframe tbody tr th:only-of-type {\n",
       "        vertical-align: middle;\n",
       "    }\n",
       "\n",
       "    .dataframe tbody tr th {\n",
       "        vertical-align: top;\n",
       "    }\n",
       "\n",
       "    .dataframe thead th {\n",
       "        text-align: right;\n",
       "    }\n",
       "</style>\n",
       "<table border=\"1\" class=\"dataframe\">\n",
       "  <thead>\n",
       "    <tr style=\"text-align: right;\">\n",
       "      <th></th>\n",
       "      <th>User_ID</th>\n",
       "      <th>Age</th>\n",
       "      <th>Gender</th>\n",
       "      <th>Occupation</th>\n",
       "      <th>City_Category</th>\n",
       "      <th>Marital_Status</th>\n",
       "    </tr>\n",
       "  </thead>\n",
       "  <tbody>\n",
       "    <tr>\n",
       "      <th>9361</th>\n",
       "      <td>1001436</td>\n",
       "      <td>5</td>\n",
       "      <td>0</td>\n",
       "      <td>6</td>\n",
       "      <td>1</td>\n",
       "      <td>1</td>\n",
       "    </tr>\n",
       "    <tr>\n",
       "      <th>26198</th>\n",
       "      <td>1004021</td>\n",
       "      <td>5</td>\n",
       "      <td>1</td>\n",
       "      <td>20</td>\n",
       "      <td>1</td>\n",
       "      <td>1</td>\n",
       "    </tr>\n",
       "    <tr>\n",
       "      <th>31879</th>\n",
       "      <td>1004887</td>\n",
       "      <td>1</td>\n",
       "      <td>1</td>\n",
       "      <td>2</td>\n",
       "      <td>1</td>\n",
       "      <td>1</td>\n",
       "    </tr>\n",
       "    <tr>\n",
       "      <th>16143</th>\n",
       "      <td>1002475</td>\n",
       "      <td>2</td>\n",
       "      <td>0</td>\n",
       "      <td>18</td>\n",
       "      <td>0</td>\n",
       "      <td>0</td>\n",
       "    </tr>\n",
       "    <tr>\n",
       "      <th>13355</th>\n",
       "      <td>1001989</td>\n",
       "      <td>5</td>\n",
       "      <td>1</td>\n",
       "      <td>6</td>\n",
       "      <td>2</td>\n",
       "      <td>0</td>\n",
       "    </tr>\n",
       "    <tr>\n",
       "      <th>36431</th>\n",
       "      <td>1005615</td>\n",
       "      <td>3</td>\n",
       "      <td>1</td>\n",
       "      <td>7</td>\n",
       "      <td>2</td>\n",
       "      <td>0</td>\n",
       "    </tr>\n",
       "    <tr>\n",
       "      <th>3485</th>\n",
       "      <td>1000563</td>\n",
       "      <td>2</td>\n",
       "      <td>1</td>\n",
       "      <td>4</td>\n",
       "      <td>0</td>\n",
       "      <td>0</td>\n",
       "    </tr>\n",
       "    <tr>\n",
       "      <th>16535</th>\n",
       "      <td>1002548</td>\n",
       "      <td>3</td>\n",
       "      <td>0</td>\n",
       "      <td>6</td>\n",
       "      <td>2</td>\n",
       "      <td>0</td>\n",
       "    </tr>\n",
       "    <tr>\n",
       "      <th>13835</th>\n",
       "      <td>1002060</td>\n",
       "      <td>0</td>\n",
       "      <td>1</td>\n",
       "      <td>1</td>\n",
       "      <td>2</td>\n",
       "      <td>0</td>\n",
       "    </tr>\n",
       "    <tr>\n",
       "      <th>28989</th>\n",
       "      <td>1004415</td>\n",
       "      <td>1</td>\n",
       "      <td>1</td>\n",
       "      <td>0</td>\n",
       "      <td>1</td>\n",
       "      <td>0</td>\n",
       "    </tr>\n",
       "  </tbody>\n",
       "</table>\n",
       "</div>"
      ],
      "text/plain": [
       "       User_ID  Age  Gender  Occupation  City_Category  Marital_Status\n",
       "9361   1001436    5       0           6              1               1\n",
       "26198  1004021    5       1          20              1               1\n",
       "31879  1004887    1       1           2              1               1\n",
       "16143  1002475    2       0          18              0               0\n",
       "13355  1001989    5       1           6              2               0\n",
       "36431  1005615    3       1           7              2               0\n",
       "3485   1000563    2       1           4              0               0\n",
       "16535  1002548    3       0           6              2               0\n",
       "13835  1002060    0       1           1              2               0\n",
       "28989  1004415    1       1           0              1               0"
      ]
     },
     "execution_count": 16,
     "metadata": {},
     "output_type": "execute_result"
    }
   ],
   "source": [
    "x_train.head(10)"
   ]
  },
  {
   "cell_type": "code",
   "execution_count": 17,
   "metadata": {},
   "outputs": [],
   "source": [
    "y_train = y_train.astype('category')\n",
    "y_train = y_train.cat.codes"
   ]
  },
  {
   "cell_type": "code",
   "execution_count": 18,
   "metadata": {},
   "outputs": [
    {
     "data": {
      "text/plain": [
       "9361     5\n",
       "26198    5\n",
       "31879    1\n",
       "16143    2\n",
       "13355    5\n",
       "36431    3\n",
       "3485     2\n",
       "16535    3\n",
       "13835    0\n",
       "28989    1\n",
       "dtype: int8"
      ]
     },
     "execution_count": 18,
     "metadata": {},
     "output_type": "execute_result"
    }
   ],
   "source": [
    "y_train.head(10)"
   ]
  },
  {
   "cell_type": "code",
   "execution_count": 19,
   "metadata": {},
   "outputs": [
    {
     "data": {
      "text/html": [
       "<div>\n",
       "<style scoped>\n",
       "    .dataframe tbody tr th:only-of-type {\n",
       "        vertical-align: middle;\n",
       "    }\n",
       "\n",
       "    .dataframe tbody tr th {\n",
       "        vertical-align: top;\n",
       "    }\n",
       "\n",
       "    .dataframe thead th {\n",
       "        text-align: right;\n",
       "    }\n",
       "</style>\n",
       "<table border=\"1\" class=\"dataframe\">\n",
       "  <thead>\n",
       "    <tr style=\"text-align: right;\">\n",
       "      <th></th>\n",
       "      <th>User_ID</th>\n",
       "      <th>Age</th>\n",
       "      <th>Gender</th>\n",
       "      <th>Occupation</th>\n",
       "      <th>City_Category</th>\n",
       "      <th>Marital_Status</th>\n",
       "    </tr>\n",
       "  </thead>\n",
       "  <tbody>\n",
       "    <tr>\n",
       "      <th>23994</th>\n",
       "      <td>1003719</td>\n",
       "      <td>26-35</td>\n",
       "      <td>M</td>\n",
       "      <td>1</td>\n",
       "      <td>C</td>\n",
       "      <td>1</td>\n",
       "    </tr>\n",
       "    <tr>\n",
       "      <th>22524</th>\n",
       "      <td>1003527</td>\n",
       "      <td>26-35</td>\n",
       "      <td>M</td>\n",
       "      <td>0</td>\n",
       "      <td>B</td>\n",
       "      <td>1</td>\n",
       "    </tr>\n",
       "    <tr>\n",
       "      <th>33876</th>\n",
       "      <td>1005210</td>\n",
       "      <td>36-45</td>\n",
       "      <td>F</td>\n",
       "      <td>17</td>\n",
       "      <td>A</td>\n",
       "      <td>0</td>\n",
       "    </tr>\n",
       "    <tr>\n",
       "      <th>37927</th>\n",
       "      <td>1005832</td>\n",
       "      <td>26-35</td>\n",
       "      <td>F</td>\n",
       "      <td>0</td>\n",
       "      <td>C</td>\n",
       "      <td>0</td>\n",
       "    </tr>\n",
       "    <tr>\n",
       "      <th>11237</th>\n",
       "      <td>1001695</td>\n",
       "      <td>26-35</td>\n",
       "      <td>M</td>\n",
       "      <td>1</td>\n",
       "      <td>C</td>\n",
       "      <td>1</td>\n",
       "    </tr>\n",
       "  </tbody>\n",
       "</table>\n",
       "</div>"
      ],
      "text/plain": [
       "       User_ID    Age Gender  Occupation City_Category  Marital_Status\n",
       "23994  1003719  26-35      M           1             C               1\n",
       "22524  1003527  26-35      M           0             B               1\n",
       "33876  1005210  36-45      F          17             A               0\n",
       "37927  1005832  26-35      F           0             C               0\n",
       "11237  1001695  26-35      M           1             C               1"
      ]
     },
     "execution_count": 19,
     "metadata": {},
     "output_type": "execute_result"
    }
   ],
   "source": [
    "x_test.head(5)"
   ]
  },
  {
   "cell_type": "code",
   "execution_count": 20,
   "metadata": {},
   "outputs": [],
   "source": [
    "x_test.loc[x_test.Age=='0-17','Age'] = 0\n",
    "x_test.loc[x_test.Age=='18-25','Age'] = 1\n",
    "x_test.loc[x_test.Age=='26-35','Age'] = 2\n",
    "x_test.loc[x_test.Age=='36-45','Age'] = 3\n",
    "x_test.loc[x_test.Age=='46-50','Age'] = 4\n",
    "x_test.loc[x_test.Age=='51-55','Age'] = 5\n",
    "x_test.loc[x_test.Age=='55+','Age'] = 6\n",
    "\n",
    "x_test.loc[x_test.Gender=='F', 'Gender'] = 0\n",
    "x_test.loc[x_test.Gender=='M', 'Gender'] = 1\n",
    "\n",
    "x_test.loc[x_test.City_Category=='A','City_Category'] = 0\n",
    "x_test.loc[x_test.City_Category=='B','City_Category'] = 1\n",
    "x_test.loc[x_test.City_Category=='C','City_Category'] = 2"
   ]
  },
  {
   "cell_type": "code",
   "execution_count": 21,
   "metadata": {},
   "outputs": [
    {
     "data": {
      "text/html": [
       "<div>\n",
       "<style scoped>\n",
       "    .dataframe tbody tr th:only-of-type {\n",
       "        vertical-align: middle;\n",
       "    }\n",
       "\n",
       "    .dataframe tbody tr th {\n",
       "        vertical-align: top;\n",
       "    }\n",
       "\n",
       "    .dataframe thead th {\n",
       "        text-align: right;\n",
       "    }\n",
       "</style>\n",
       "<table border=\"1\" class=\"dataframe\">\n",
       "  <thead>\n",
       "    <tr style=\"text-align: right;\">\n",
       "      <th></th>\n",
       "      <th>User_ID</th>\n",
       "      <th>Age</th>\n",
       "      <th>Gender</th>\n",
       "      <th>Occupation</th>\n",
       "      <th>City_Category</th>\n",
       "      <th>Marital_Status</th>\n",
       "    </tr>\n",
       "  </thead>\n",
       "  <tbody>\n",
       "    <tr>\n",
       "      <th>23994</th>\n",
       "      <td>1003719</td>\n",
       "      <td>2</td>\n",
       "      <td>1</td>\n",
       "      <td>1</td>\n",
       "      <td>2</td>\n",
       "      <td>1</td>\n",
       "    </tr>\n",
       "    <tr>\n",
       "      <th>22524</th>\n",
       "      <td>1003527</td>\n",
       "      <td>2</td>\n",
       "      <td>1</td>\n",
       "      <td>0</td>\n",
       "      <td>1</td>\n",
       "      <td>1</td>\n",
       "    </tr>\n",
       "    <tr>\n",
       "      <th>33876</th>\n",
       "      <td>1005210</td>\n",
       "      <td>3</td>\n",
       "      <td>0</td>\n",
       "      <td>17</td>\n",
       "      <td>0</td>\n",
       "      <td>0</td>\n",
       "    </tr>\n",
       "    <tr>\n",
       "      <th>37927</th>\n",
       "      <td>1005832</td>\n",
       "      <td>2</td>\n",
       "      <td>0</td>\n",
       "      <td>0</td>\n",
       "      <td>2</td>\n",
       "      <td>0</td>\n",
       "    </tr>\n",
       "    <tr>\n",
       "      <th>11237</th>\n",
       "      <td>1001695</td>\n",
       "      <td>2</td>\n",
       "      <td>1</td>\n",
       "      <td>1</td>\n",
       "      <td>2</td>\n",
       "      <td>1</td>\n",
       "    </tr>\n",
       "  </tbody>\n",
       "</table>\n",
       "</div>"
      ],
      "text/plain": [
       "       User_ID  Age  Gender  Occupation  City_Category  Marital_Status\n",
       "23994  1003719    2       1           1              2               1\n",
       "22524  1003527    2       1           0              1               1\n",
       "33876  1005210    3       0          17              0               0\n",
       "37927  1005832    2       0           0              2               0\n",
       "11237  1001695    2       1           1              2               1"
      ]
     },
     "execution_count": 21,
     "metadata": {},
     "output_type": "execute_result"
    }
   ],
   "source": [
    "x_test.head(5)"
   ]
  },
  {
   "cell_type": "code",
   "execution_count": 22,
   "metadata": {},
   "outputs": [
    {
     "data": {
      "text/plain": [
       "23994    26-35\n",
       "22524    26-35\n",
       "33876    36-45\n",
       "37927    26-35\n",
       "11237    26-35\n",
       "Name: Age, dtype: object"
      ]
     },
     "execution_count": 22,
     "metadata": {},
     "output_type": "execute_result"
    }
   ],
   "source": [
    "y_test.head(5)"
   ]
  },
  {
   "cell_type": "code",
   "execution_count": 23,
   "metadata": {},
   "outputs": [],
   "source": [
    "y_test = y_test.astype('category')\n",
    "y_test = y_test.cat.codes"
   ]
  },
  {
   "cell_type": "code",
   "execution_count": 24,
   "metadata": {},
   "outputs": [
    {
     "data": {
      "text/plain": [
       "23994    2\n",
       "22524    2\n",
       "33876    3\n",
       "37927    2\n",
       "11237    2\n",
       "dtype: int8"
      ]
     },
     "execution_count": 24,
     "metadata": {},
     "output_type": "execute_result"
    }
   ],
   "source": [
    "y_test.head(5)"
   ]
  },
  {
   "cell_type": "code",
   "execution_count": 25,
   "metadata": {},
   "outputs": [
    {
     "data": {
      "text/plain": [
       "DecisionTreeClassifier(class_weight=None, criterion='entropy', max_depth=3,\n",
       "            max_features=None, max_leaf_nodes=None,\n",
       "            min_impurity_decrease=0.0, min_impurity_split=None,\n",
       "            min_samples_leaf=1, min_samples_split=2,\n",
       "            min_weight_fraction_leaf=0.0, presort=False, random_state=0,\n",
       "            splitter='best')"
      ]
     },
     "execution_count": 25,
     "metadata": {},
     "output_type": "execute_result"
    }
   ],
   "source": [
    "from sklearn.tree import DecisionTreeClassifier\n",
    "clf = DecisionTreeClassifier(max_depth=3, random_state=0, criterion='entropy')\n",
    "clf.fit(X=x_train,y=y_train)"
   ]
  },
  {
   "cell_type": "code",
   "execution_count": 26,
   "metadata": {},
   "outputs": [
    {
     "name": "stdout",
     "output_type": "stream",
     "text": [
      "acurácia no treino: 0.938\n",
      "acurácia no teste: 0.934\n"
     ]
    }
   ],
   "source": [
    "print(\"acurácia no treino: {:.3f}\".format(clf.score(x_train,y_train)))\n",
    "print(\"acurácia no teste: {:.3f}\".format(clf.score(x_test,y_test)))"
   ]
  },
  {
   "cell_type": "code",
   "execution_count": 27,
   "metadata": {},
   "outputs": [],
   "source": [
    "import graphviz\n",
    "from sklearn import tree\n",
    "dados = tree.export_graphviz(clf, out_file=None)\n",
    "grafo = graphviz.Source(dados)"
   ]
  },
  {
   "cell_type": "code",
   "execution_count": 32,
   "metadata": {},
   "outputs": [
    {
     "data": {
      "image/svg+xml": [
       "<?xml version=\"1.0\" encoding=\"UTF-8\" standalone=\"no\"?>\r\n",
       "<!DOCTYPE svg PUBLIC \"-//W3C//DTD SVG 1.1//EN\"\r\n",
       " \"http://www.w3.org/Graphics/SVG/1.1/DTD/svg11.dtd\">\r\n",
       "<!-- Generated by graphviz version 2.38.0 (20140413.2041)\r\n",
       " -->\r\n",
       "<!-- Title: Tree Pages: 1 -->\r\n",
       "<svg width=\"1014pt\" height=\"373pt\"\r\n",
       " viewBox=\"0.00 0.00 1013.50 373.00\" xmlns=\"http://www.w3.org/2000/svg\" xmlns:xlink=\"http://www.w3.org/1999/xlink\">\r\n",
       "<g id=\"graph0\" class=\"graph\" transform=\"scale(1 1) rotate(0) translate(4 369)\">\r\n",
       "<title>Tree</title>\r\n",
       "<polygon fill=\"white\" stroke=\"none\" points=\"-4,4 -4,-369 1009.5,-369 1009.5,4 -4,4\"/>\r\n",
       "<!-- 0 -->\r\n",
       "<g id=\"node1\" class=\"node\"><title>0</title>\r\n",
       "<polygon fill=\"none\" stroke=\"black\" points=\"626.5,-365 363.5,-365 363.5,-297 626.5,-297 626.5,-365\"/>\r\n",
       "<text text-anchor=\"middle\" x=\"495\" y=\"-349.8\" font-family=\"Times New Roman,serif\" font-size=\"14.00\">X[1] &lt;= 2.5</text>\r\n",
       "<text text-anchor=\"middle\" x=\"495\" y=\"-334.8\" font-family=\"Times New Roman,serif\" font-size=\"14.00\">entropy = 2.474</text>\r\n",
       "<text text-anchor=\"middle\" x=\"495\" y=\"-319.8\" font-family=\"Times New Roman,serif\" font-size=\"14.00\">samples = 4418</text>\r\n",
       "<text text-anchor=\"middle\" x=\"495\" y=\"-304.8\" font-family=\"Times New Roman,serif\" font-size=\"14.00\">value = [160, 818, 1537, 864, 411, 353, 275]</text>\r\n",
       "</g>\r\n",
       "<!-- 1 -->\r\n",
       "<g id=\"node2\" class=\"node\"><title>1</title>\r\n",
       "<polygon fill=\"none\" stroke=\"black\" points=\"484.5,-261 275.5,-261 275.5,-193 484.5,-193 484.5,-261\"/>\r\n",
       "<text text-anchor=\"middle\" x=\"380\" y=\"-245.8\" font-family=\"Times New Roman,serif\" font-size=\"14.00\">X[1] &lt;= 1.5</text>\r\n",
       "<text text-anchor=\"middle\" x=\"380\" y=\"-230.8\" font-family=\"Times New Roman,serif\" font-size=\"14.00\">entropy = 1.214</text>\r\n",
       "<text text-anchor=\"middle\" x=\"380\" y=\"-215.8\" font-family=\"Times New Roman,serif\" font-size=\"14.00\">samples = 2515</text>\r\n",
       "<text text-anchor=\"middle\" x=\"380\" y=\"-200.8\" font-family=\"Times New Roman,serif\" font-size=\"14.00\">value = [160, 818, 1537, 0, 0, 0, 0]</text>\r\n",
       "</g>\r\n",
       "<!-- 0&#45;&gt;1 -->\r\n",
       "<g id=\"edge1\" class=\"edge\"><title>0&#45;&gt;1</title>\r\n",
       "<path fill=\"none\" stroke=\"black\" d=\"M457.663,-296.884C447.319,-287.709 435.978,-277.65 425.236,-268.123\"/>\r\n",
       "<polygon fill=\"black\" stroke=\"black\" points=\"427.347,-265.317 417.543,-261.299 422.702,-270.553 427.347,-265.317\"/>\r\n",
       "<text text-anchor=\"middle\" x=\"419.038\" y=\"-282.555\" font-family=\"Times New Roman,serif\" font-size=\"14.00\">True</text>\r\n",
       "</g>\r\n",
       "<!-- 6 -->\r\n",
       "<g id=\"node7\" class=\"node\"><title>6</title>\r\n",
       "<polygon fill=\"none\" stroke=\"black\" points=\"719,-261 503,-261 503,-193 719,-193 719,-261\"/>\r\n",
       "<text text-anchor=\"middle\" x=\"611\" y=\"-245.8\" font-family=\"Times New Roman,serif\" font-size=\"14.00\">X[1] &lt;= 3.5</text>\r\n",
       "<text text-anchor=\"middle\" x=\"611\" y=\"-230.8\" font-family=\"Times New Roman,serif\" font-size=\"14.00\">entropy = 1.849</text>\r\n",
       "<text text-anchor=\"middle\" x=\"611\" y=\"-215.8\" font-family=\"Times New Roman,serif\" font-size=\"14.00\">samples = 1903</text>\r\n",
       "<text text-anchor=\"middle\" x=\"611\" y=\"-200.8\" font-family=\"Times New Roman,serif\" font-size=\"14.00\">value = [0, 0, 0, 864, 411, 353, 275]</text>\r\n",
       "</g>\r\n",
       "<!-- 0&#45;&gt;6 -->\r\n",
       "<g id=\"edge6\" class=\"edge\"><title>0&#45;&gt;6</title>\r\n",
       "<path fill=\"none\" stroke=\"black\" d=\"M532.662,-296.884C543.096,-287.709 554.535,-277.65 565.37,-268.123\"/>\r\n",
       "<polygon fill=\"black\" stroke=\"black\" points=\"567.932,-270.531 573.13,-261.299 563.309,-265.274 567.932,-270.531\"/>\r\n",
       "<text text-anchor=\"middle\" x=\"571.528\" y=\"-282.548\" font-family=\"Times New Roman,serif\" font-size=\"14.00\">False</text>\r\n",
       "</g>\r\n",
       "<!-- 2 -->\r\n",
       "<g id=\"node3\" class=\"node\"><title>2</title>\r\n",
       "<polygon fill=\"none\" stroke=\"black\" points=\"279.5,-157 90.5,-157 90.5,-89 279.5,-89 279.5,-157\"/>\r\n",
       "<text text-anchor=\"middle\" x=\"185\" y=\"-141.8\" font-family=\"Times New Roman,serif\" font-size=\"14.00\">X[1] &lt;= 0.5</text>\r\n",
       "<text text-anchor=\"middle\" x=\"185\" y=\"-126.8\" font-family=\"Times New Roman,serif\" font-size=\"14.00\">entropy = 0.643</text>\r\n",
       "<text text-anchor=\"middle\" x=\"185\" y=\"-111.8\" font-family=\"Times New Roman,serif\" font-size=\"14.00\">samples = 978</text>\r\n",
       "<text text-anchor=\"middle\" x=\"185\" y=\"-96.8\" font-family=\"Times New Roman,serif\" font-size=\"14.00\">value = [160, 818, 0, 0, 0, 0, 0]</text>\r\n",
       "</g>\r\n",
       "<!-- 1&#45;&gt;2 -->\r\n",
       "<g id=\"edge2\" class=\"edge\"><title>1&#45;&gt;2</title>\r\n",
       "<path fill=\"none\" stroke=\"black\" d=\"M316.689,-192.884C297.776,-182.991 276.898,-172.07 257.447,-161.895\"/>\r\n",
       "<polygon fill=\"black\" stroke=\"black\" points=\"258.81,-158.658 248.327,-157.125 255.565,-164.861 258.81,-158.658\"/>\r\n",
       "</g>\r\n",
       "<!-- 5 -->\r\n",
       "<g id=\"node6\" class=\"node\"><title>5</title>\r\n",
       "<polygon fill=\"none\" stroke=\"black\" points=\"480,-149.5 298,-149.5 298,-96.5 480,-96.5 480,-149.5\"/>\r\n",
       "<text text-anchor=\"middle\" x=\"389\" y=\"-134.3\" font-family=\"Times New Roman,serif\" font-size=\"14.00\">entropy = 0.0</text>\r\n",
       "<text text-anchor=\"middle\" x=\"389\" y=\"-119.3\" font-family=\"Times New Roman,serif\" font-size=\"14.00\">samples = 1537</text>\r\n",
       "<text text-anchor=\"middle\" x=\"389\" y=\"-104.3\" font-family=\"Times New Roman,serif\" font-size=\"14.00\">value = [0, 0, 1537, 0, 0, 0, 0]</text>\r\n",
       "</g>\r\n",
       "<!-- 1&#45;&gt;5 -->\r\n",
       "<g id=\"edge5\" class=\"edge\"><title>1&#45;&gt;5</title>\r\n",
       "<path fill=\"none\" stroke=\"black\" d=\"M382.922,-192.884C383.863,-182.216 384.91,-170.352 385.866,-159.519\"/>\r\n",
       "<polygon fill=\"black\" stroke=\"black\" points=\"389.356,-159.789 386.748,-149.52 382.383,-159.174 389.356,-159.789\"/>\r\n",
       "</g>\r\n",
       "<!-- 3 -->\r\n",
       "<g id=\"node4\" class=\"node\"><title>3</title>\r\n",
       "<polygon fill=\"none\" stroke=\"black\" points=\"176,-53 0,-53 0,-0 176,-0 176,-53\"/>\r\n",
       "<text text-anchor=\"middle\" x=\"88\" y=\"-37.8\" font-family=\"Times New Roman,serif\" font-size=\"14.00\">entropy = 0.0</text>\r\n",
       "<text text-anchor=\"middle\" x=\"88\" y=\"-22.8\" font-family=\"Times New Roman,serif\" font-size=\"14.00\">samples = 160</text>\r\n",
       "<text text-anchor=\"middle\" x=\"88\" y=\"-7.8\" font-family=\"Times New Roman,serif\" font-size=\"14.00\">value = [160, 0, 0, 0, 0, 0, 0]</text>\r\n",
       "</g>\r\n",
       "<!-- 2&#45;&gt;3 -->\r\n",
       "<g id=\"edge3\" class=\"edge\"><title>2&#45;&gt;3</title>\r\n",
       "<path fill=\"none\" stroke=\"black\" d=\"M151.074,-88.9485C141.59,-79.709 131.287,-69.671 121.809,-60.4381\"/>\r\n",
       "<polygon fill=\"black\" stroke=\"black\" points=\"124.023,-57.7079 114.418,-53.2367 119.138,-62.7219 124.023,-57.7079\"/>\r\n",
       "</g>\r\n",
       "<!-- 4 -->\r\n",
       "<g id=\"node5\" class=\"node\"><title>4</title>\r\n",
       "<polygon fill=\"none\" stroke=\"black\" points=\"370,-53 194,-53 194,-0 370,-0 370,-53\"/>\r\n",
       "<text text-anchor=\"middle\" x=\"282\" y=\"-37.8\" font-family=\"Times New Roman,serif\" font-size=\"14.00\">entropy = 0.0</text>\r\n",
       "<text text-anchor=\"middle\" x=\"282\" y=\"-22.8\" font-family=\"Times New Roman,serif\" font-size=\"14.00\">samples = 818</text>\r\n",
       "<text text-anchor=\"middle\" x=\"282\" y=\"-7.8\" font-family=\"Times New Roman,serif\" font-size=\"14.00\">value = [0, 818, 0, 0, 0, 0, 0]</text>\r\n",
       "</g>\r\n",
       "<!-- 2&#45;&gt;4 -->\r\n",
       "<g id=\"edge4\" class=\"edge\"><title>2&#45;&gt;4</title>\r\n",
       "<path fill=\"none\" stroke=\"black\" d=\"M218.926,-88.9485C228.41,-79.709 238.713,-69.671 248.191,-60.4381\"/>\r\n",
       "<polygon fill=\"black\" stroke=\"black\" points=\"250.862,-62.7219 255.582,-53.2367 245.977,-57.7079 250.862,-62.7219\"/>\r\n",
       "</g>\r\n",
       "<!-- 7 -->\r\n",
       "<g id=\"node8\" class=\"node\"><title>7</title>\r\n",
       "<polygon fill=\"none\" stroke=\"black\" points=\"691,-149.5 515,-149.5 515,-96.5 691,-96.5 691,-149.5\"/>\r\n",
       "<text text-anchor=\"middle\" x=\"603\" y=\"-134.3\" font-family=\"Times New Roman,serif\" font-size=\"14.00\">entropy = 0.0</text>\r\n",
       "<text text-anchor=\"middle\" x=\"603\" y=\"-119.3\" font-family=\"Times New Roman,serif\" font-size=\"14.00\">samples = 864</text>\r\n",
       "<text text-anchor=\"middle\" x=\"603\" y=\"-104.3\" font-family=\"Times New Roman,serif\" font-size=\"14.00\">value = [0, 0, 0, 864, 0, 0, 0]</text>\r\n",
       "</g>\r\n",
       "<!-- 6&#45;&gt;7 -->\r\n",
       "<g id=\"edge7\" class=\"edge\"><title>6&#45;&gt;7</title>\r\n",
       "<path fill=\"none\" stroke=\"black\" d=\"M608.403,-192.884C607.566,-182.216 606.635,-170.352 605.786,-159.519\"/>\r\n",
       "<polygon fill=\"black\" stroke=\"black\" points=\"609.273,-159.216 605.002,-149.52 602.294,-159.763 609.273,-159.216\"/>\r\n",
       "</g>\r\n",
       "<!-- 8 -->\r\n",
       "<g id=\"node9\" class=\"node\"><title>8</title>\r\n",
       "<polygon fill=\"none\" stroke=\"black\" points=\"912.5,-157 709.5,-157 709.5,-89 912.5,-89 912.5,-157\"/>\r\n",
       "<text text-anchor=\"middle\" x=\"811\" y=\"-141.8\" font-family=\"Times New Roman,serif\" font-size=\"14.00\">X[1] &lt;= 4.5</text>\r\n",
       "<text text-anchor=\"middle\" x=\"811\" y=\"-126.8\" font-family=\"Times New Roman,serif\" font-size=\"14.00\">entropy = 1.566</text>\r\n",
       "<text text-anchor=\"middle\" x=\"811\" y=\"-111.8\" font-family=\"Times New Roman,serif\" font-size=\"14.00\">samples = 1039</text>\r\n",
       "<text text-anchor=\"middle\" x=\"811\" y=\"-96.8\" font-family=\"Times New Roman,serif\" font-size=\"14.00\">value = [0, 0, 0, 0, 411, 353, 275]</text>\r\n",
       "</g>\r\n",
       "<!-- 6&#45;&gt;8 -->\r\n",
       "<g id=\"edge8\" class=\"edge\"><title>6&#45;&gt;8</title>\r\n",
       "<path fill=\"none\" stroke=\"black\" d=\"M675.934,-192.884C695.42,-182.946 716.939,-171.971 736.966,-161.757\"/>\r\n",
       "<polygon fill=\"black\" stroke=\"black\" points=\"738.731,-164.786 746.05,-157.125 735.551,-158.55 738.731,-164.786\"/>\r\n",
       "</g>\r\n",
       "<!-- 9 -->\r\n",
       "<g id=\"node10\" class=\"node\"><title>9</title>\r\n",
       "<polygon fill=\"none\" stroke=\"black\" points=\"798,-53 622,-53 622,-0 798,-0 798,-53\"/>\r\n",
       "<text text-anchor=\"middle\" x=\"710\" y=\"-37.8\" font-family=\"Times New Roman,serif\" font-size=\"14.00\">entropy = 0.0</text>\r\n",
       "<text text-anchor=\"middle\" x=\"710\" y=\"-22.8\" font-family=\"Times New Roman,serif\" font-size=\"14.00\">samples = 411</text>\r\n",
       "<text text-anchor=\"middle\" x=\"710\" y=\"-7.8\" font-family=\"Times New Roman,serif\" font-size=\"14.00\">value = [0, 0, 0, 0, 411, 0, 0]</text>\r\n",
       "</g>\r\n",
       "<!-- 8&#45;&gt;9 -->\r\n",
       "<g id=\"edge9\" class=\"edge\"><title>8&#45;&gt;9</title>\r\n",
       "<path fill=\"none\" stroke=\"black\" d=\"M775.675,-88.9485C765.702,-79.6175 754.859,-69.4722 744.911,-60.1641\"/>\r\n",
       "<polygon fill=\"black\" stroke=\"black\" points=\"747.2,-57.5132 737.507,-53.2367 742.418,-62.6247 747.2,-57.5132\"/>\r\n",
       "</g>\r\n",
       "<!-- 10 -->\r\n",
       "<g id=\"node11\" class=\"node\"><title>10</title>\r\n",
       "<polygon fill=\"none\" stroke=\"black\" points=\"1005.5,-53 816.5,-53 816.5,-0 1005.5,-0 1005.5,-53\"/>\r\n",
       "<text text-anchor=\"middle\" x=\"911\" y=\"-37.8\" font-family=\"Times New Roman,serif\" font-size=\"14.00\">entropy = 0.989</text>\r\n",
       "<text text-anchor=\"middle\" x=\"911\" y=\"-22.8\" font-family=\"Times New Roman,serif\" font-size=\"14.00\">samples = 628</text>\r\n",
       "<text text-anchor=\"middle\" x=\"911\" y=\"-7.8\" font-family=\"Times New Roman,serif\" font-size=\"14.00\">value = [0, 0, 0, 0, 0, 353, 275]</text>\r\n",
       "</g>\r\n",
       "<!-- 8&#45;&gt;10 -->\r\n",
       "<g id=\"edge10\" class=\"edge\"><title>8&#45;&gt;10</title>\r\n",
       "<path fill=\"none\" stroke=\"black\" d=\"M845.975,-88.9485C855.849,-79.6175 866.585,-69.4722 876.435,-60.1641\"/>\r\n",
       "<polygon fill=\"black\" stroke=\"black\" points=\"878.901,-62.649 883.765,-53.2367 874.093,-57.5613 878.901,-62.649\"/>\r\n",
       "</g>\r\n",
       "</g>\r\n",
       "</svg>\r\n"
      ],
      "text/plain": [
       "<graphviz.files.Source at 0x19b51c92278>"
      ]
     },
     "execution_count": 32,
     "metadata": {},
     "output_type": "execute_result"
    }
   ],
   "source": [
    "grafo"
   ]
  },
  {
   "cell_type": "code",
   "execution_count": 36,
   "metadata": {},
   "outputs": [
    {
     "data": {
      "text/plain": [
       "DecisionTreeClassifier(class_weight=None, criterion='gini', max_depth=3,\n",
       "            max_features=None, max_leaf_nodes=None,\n",
       "            min_impurity_decrease=0.0, min_impurity_split=None,\n",
       "            min_samples_leaf=1, min_samples_split=2,\n",
       "            min_weight_fraction_leaf=0.0, presort=False, random_state=0,\n",
       "            splitter='best')"
      ]
     },
     "execution_count": 36,
     "metadata": {},
     "output_type": "execute_result"
    }
   ],
   "source": [
    "from sklearn.tree import DecisionTreeClassifier\n",
    "clf2 = DecisionTreeClassifier(max_depth=3, random_state=0, criterion='gini')\n",
    "clf2.fit(X=x_train,y=y_train)"
   ]
  },
  {
   "cell_type": "code",
   "execution_count": 37,
   "metadata": {},
   "outputs": [
    {
     "name": "stdout",
     "output_type": "stream",
     "text": [
      "acurácia no treino: 0.938\n",
      "acurácia no teste: 0.934\n"
     ]
    }
   ],
   "source": [
    "print(\"acurácia no treino: {:.3f}\".format(clf2.score(x_train,y_train)))\n",
    "print(\"acurácia no teste: {:.3f}\".format(clf2.score(x_test,y_test)))"
   ]
  },
  {
   "cell_type": "code",
   "execution_count": 39,
   "metadata": {},
   "outputs": [
    {
     "data": {
      "image/svg+xml": [
       "<?xml version=\"1.0\" encoding=\"UTF-8\" standalone=\"no\"?>\r\n",
       "<!DOCTYPE svg PUBLIC \"-//W3C//DTD SVG 1.1//EN\"\r\n",
       " \"http://www.w3.org/Graphics/SVG/1.1/DTD/svg11.dtd\">\r\n",
       "<!-- Generated by graphviz version 2.38.0 (20140413.2041)\r\n",
       " -->\r\n",
       "<!-- Title: Tree Pages: 1 -->\r\n",
       "<svg width=\"1014pt\" height=\"373pt\"\r\n",
       " viewBox=\"0.00 0.00 1013.50 373.00\" xmlns=\"http://www.w3.org/2000/svg\" xmlns:xlink=\"http://www.w3.org/1999/xlink\">\r\n",
       "<g id=\"graph0\" class=\"graph\" transform=\"scale(1 1) rotate(0) translate(4 369)\">\r\n",
       "<title>Tree</title>\r\n",
       "<polygon fill=\"white\" stroke=\"none\" points=\"-4,4 -4,-369 1009.5,-369 1009.5,4 -4,4\"/>\r\n",
       "<!-- 0 -->\r\n",
       "<g id=\"node1\" class=\"node\"><title>0</title>\r\n",
       "<polygon fill=\"none\" stroke=\"black\" points=\"626.5,-365 363.5,-365 363.5,-297 626.5,-297 626.5,-365\"/>\r\n",
       "<text text-anchor=\"middle\" x=\"495\" y=\"-349.8\" font-family=\"Times New Roman,serif\" font-size=\"14.00\">X[1] &lt;= 2.5</text>\r\n",
       "<text text-anchor=\"middle\" x=\"495\" y=\"-334.8\" font-family=\"Times New Roman,serif\" font-size=\"14.00\">gini = 0.786</text>\r\n",
       "<text text-anchor=\"middle\" x=\"495\" y=\"-319.8\" font-family=\"Times New Roman,serif\" font-size=\"14.00\">samples = 4418</text>\r\n",
       "<text text-anchor=\"middle\" x=\"495\" y=\"-304.8\" font-family=\"Times New Roman,serif\" font-size=\"14.00\">value = [160, 818, 1537, 864, 411, 353, 275]</text>\r\n",
       "</g>\r\n",
       "<!-- 1 -->\r\n",
       "<g id=\"node2\" class=\"node\"><title>1</title>\r\n",
       "<polygon fill=\"none\" stroke=\"black\" points=\"484.5,-261 275.5,-261 275.5,-193 484.5,-193 484.5,-261\"/>\r\n",
       "<text text-anchor=\"middle\" x=\"380\" y=\"-245.8\" font-family=\"Times New Roman,serif\" font-size=\"14.00\">X[1] &lt;= 1.5</text>\r\n",
       "<text text-anchor=\"middle\" x=\"380\" y=\"-230.8\" font-family=\"Times New Roman,serif\" font-size=\"14.00\">gini = 0.517</text>\r\n",
       "<text text-anchor=\"middle\" x=\"380\" y=\"-215.8\" font-family=\"Times New Roman,serif\" font-size=\"14.00\">samples = 2515</text>\r\n",
       "<text text-anchor=\"middle\" x=\"380\" y=\"-200.8\" font-family=\"Times New Roman,serif\" font-size=\"14.00\">value = [160, 818, 1537, 0, 0, 0, 0]</text>\r\n",
       "</g>\r\n",
       "<!-- 0&#45;&gt;1 -->\r\n",
       "<g id=\"edge1\" class=\"edge\"><title>0&#45;&gt;1</title>\r\n",
       "<path fill=\"none\" stroke=\"black\" d=\"M457.663,-296.884C447.319,-287.709 435.978,-277.65 425.236,-268.123\"/>\r\n",
       "<polygon fill=\"black\" stroke=\"black\" points=\"427.347,-265.317 417.543,-261.299 422.702,-270.553 427.347,-265.317\"/>\r\n",
       "<text text-anchor=\"middle\" x=\"419.038\" y=\"-282.555\" font-family=\"Times New Roman,serif\" font-size=\"14.00\">True</text>\r\n",
       "</g>\r\n",
       "<!-- 6 -->\r\n",
       "<g id=\"node7\" class=\"node\"><title>6</title>\r\n",
       "<polygon fill=\"none\" stroke=\"black\" points=\"719,-261 503,-261 503,-193 719,-193 719,-261\"/>\r\n",
       "<text text-anchor=\"middle\" x=\"611\" y=\"-245.8\" font-family=\"Times New Roman,serif\" font-size=\"14.00\">X[1] &lt;= 3.5</text>\r\n",
       "<text text-anchor=\"middle\" x=\"611\" y=\"-230.8\" font-family=\"Times New Roman,serif\" font-size=\"14.00\">gini = 0.692</text>\r\n",
       "<text text-anchor=\"middle\" x=\"611\" y=\"-215.8\" font-family=\"Times New Roman,serif\" font-size=\"14.00\">samples = 1903</text>\r\n",
       "<text text-anchor=\"middle\" x=\"611\" y=\"-200.8\" font-family=\"Times New Roman,serif\" font-size=\"14.00\">value = [0, 0, 0, 864, 411, 353, 275]</text>\r\n",
       "</g>\r\n",
       "<!-- 0&#45;&gt;6 -->\r\n",
       "<g id=\"edge6\" class=\"edge\"><title>0&#45;&gt;6</title>\r\n",
       "<path fill=\"none\" stroke=\"black\" d=\"M532.662,-296.884C543.096,-287.709 554.535,-277.65 565.37,-268.123\"/>\r\n",
       "<polygon fill=\"black\" stroke=\"black\" points=\"567.932,-270.531 573.13,-261.299 563.309,-265.274 567.932,-270.531\"/>\r\n",
       "<text text-anchor=\"middle\" x=\"571.528\" y=\"-282.548\" font-family=\"Times New Roman,serif\" font-size=\"14.00\">False</text>\r\n",
       "</g>\r\n",
       "<!-- 2 -->\r\n",
       "<g id=\"node3\" class=\"node\"><title>2</title>\r\n",
       "<polygon fill=\"none\" stroke=\"black\" points=\"279.5,-157 90.5,-157 90.5,-89 279.5,-89 279.5,-157\"/>\r\n",
       "<text text-anchor=\"middle\" x=\"185\" y=\"-141.8\" font-family=\"Times New Roman,serif\" font-size=\"14.00\">X[1] &lt;= 0.5</text>\r\n",
       "<text text-anchor=\"middle\" x=\"185\" y=\"-126.8\" font-family=\"Times New Roman,serif\" font-size=\"14.00\">gini = 0.274</text>\r\n",
       "<text text-anchor=\"middle\" x=\"185\" y=\"-111.8\" font-family=\"Times New Roman,serif\" font-size=\"14.00\">samples = 978</text>\r\n",
       "<text text-anchor=\"middle\" x=\"185\" y=\"-96.8\" font-family=\"Times New Roman,serif\" font-size=\"14.00\">value = [160, 818, 0, 0, 0, 0, 0]</text>\r\n",
       "</g>\r\n",
       "<!-- 1&#45;&gt;2 -->\r\n",
       "<g id=\"edge2\" class=\"edge\"><title>1&#45;&gt;2</title>\r\n",
       "<path fill=\"none\" stroke=\"black\" d=\"M316.689,-192.884C297.776,-182.991 276.898,-172.07 257.447,-161.895\"/>\r\n",
       "<polygon fill=\"black\" stroke=\"black\" points=\"258.81,-158.658 248.327,-157.125 255.565,-164.861 258.81,-158.658\"/>\r\n",
       "</g>\r\n",
       "<!-- 5 -->\r\n",
       "<g id=\"node6\" class=\"node\"><title>5</title>\r\n",
       "<polygon fill=\"none\" stroke=\"black\" points=\"480,-149.5 298,-149.5 298,-96.5 480,-96.5 480,-149.5\"/>\r\n",
       "<text text-anchor=\"middle\" x=\"389\" y=\"-134.3\" font-family=\"Times New Roman,serif\" font-size=\"14.00\">gini = 0.0</text>\r\n",
       "<text text-anchor=\"middle\" x=\"389\" y=\"-119.3\" font-family=\"Times New Roman,serif\" font-size=\"14.00\">samples = 1537</text>\r\n",
       "<text text-anchor=\"middle\" x=\"389\" y=\"-104.3\" font-family=\"Times New Roman,serif\" font-size=\"14.00\">value = [0, 0, 1537, 0, 0, 0, 0]</text>\r\n",
       "</g>\r\n",
       "<!-- 1&#45;&gt;5 -->\r\n",
       "<g id=\"edge5\" class=\"edge\"><title>1&#45;&gt;5</title>\r\n",
       "<path fill=\"none\" stroke=\"black\" d=\"M382.922,-192.884C383.863,-182.216 384.91,-170.352 385.866,-159.519\"/>\r\n",
       "<polygon fill=\"black\" stroke=\"black\" points=\"389.356,-159.789 386.748,-149.52 382.383,-159.174 389.356,-159.789\"/>\r\n",
       "</g>\r\n",
       "<!-- 3 -->\r\n",
       "<g id=\"node4\" class=\"node\"><title>3</title>\r\n",
       "<polygon fill=\"none\" stroke=\"black\" points=\"176,-53 0,-53 0,-0 176,-0 176,-53\"/>\r\n",
       "<text text-anchor=\"middle\" x=\"88\" y=\"-37.8\" font-family=\"Times New Roman,serif\" font-size=\"14.00\">gini = 0.0</text>\r\n",
       "<text text-anchor=\"middle\" x=\"88\" y=\"-22.8\" font-family=\"Times New Roman,serif\" font-size=\"14.00\">samples = 160</text>\r\n",
       "<text text-anchor=\"middle\" x=\"88\" y=\"-7.8\" font-family=\"Times New Roman,serif\" font-size=\"14.00\">value = [160, 0, 0, 0, 0, 0, 0]</text>\r\n",
       "</g>\r\n",
       "<!-- 2&#45;&gt;3 -->\r\n",
       "<g id=\"edge3\" class=\"edge\"><title>2&#45;&gt;3</title>\r\n",
       "<path fill=\"none\" stroke=\"black\" d=\"M151.074,-88.9485C141.59,-79.709 131.287,-69.671 121.809,-60.4381\"/>\r\n",
       "<polygon fill=\"black\" stroke=\"black\" points=\"124.023,-57.7079 114.418,-53.2367 119.138,-62.7219 124.023,-57.7079\"/>\r\n",
       "</g>\r\n",
       "<!-- 4 -->\r\n",
       "<g id=\"node5\" class=\"node\"><title>4</title>\r\n",
       "<polygon fill=\"none\" stroke=\"black\" points=\"370,-53 194,-53 194,-0 370,-0 370,-53\"/>\r\n",
       "<text text-anchor=\"middle\" x=\"282\" y=\"-37.8\" font-family=\"Times New Roman,serif\" font-size=\"14.00\">gini = 0.0</text>\r\n",
       "<text text-anchor=\"middle\" x=\"282\" y=\"-22.8\" font-family=\"Times New Roman,serif\" font-size=\"14.00\">samples = 818</text>\r\n",
       "<text text-anchor=\"middle\" x=\"282\" y=\"-7.8\" font-family=\"Times New Roman,serif\" font-size=\"14.00\">value = [0, 818, 0, 0, 0, 0, 0]</text>\r\n",
       "</g>\r\n",
       "<!-- 2&#45;&gt;4 -->\r\n",
       "<g id=\"edge4\" class=\"edge\"><title>2&#45;&gt;4</title>\r\n",
       "<path fill=\"none\" stroke=\"black\" d=\"M218.926,-88.9485C228.41,-79.709 238.713,-69.671 248.191,-60.4381\"/>\r\n",
       "<polygon fill=\"black\" stroke=\"black\" points=\"250.862,-62.7219 255.582,-53.2367 245.977,-57.7079 250.862,-62.7219\"/>\r\n",
       "</g>\r\n",
       "<!-- 7 -->\r\n",
       "<g id=\"node8\" class=\"node\"><title>7</title>\r\n",
       "<polygon fill=\"none\" stroke=\"black\" points=\"691,-149.5 515,-149.5 515,-96.5 691,-96.5 691,-149.5\"/>\r\n",
       "<text text-anchor=\"middle\" x=\"603\" y=\"-134.3\" font-family=\"Times New Roman,serif\" font-size=\"14.00\">gini = 0.0</text>\r\n",
       "<text text-anchor=\"middle\" x=\"603\" y=\"-119.3\" font-family=\"Times New Roman,serif\" font-size=\"14.00\">samples = 864</text>\r\n",
       "<text text-anchor=\"middle\" x=\"603\" y=\"-104.3\" font-family=\"Times New Roman,serif\" font-size=\"14.00\">value = [0, 0, 0, 864, 0, 0, 0]</text>\r\n",
       "</g>\r\n",
       "<!-- 6&#45;&gt;7 -->\r\n",
       "<g id=\"edge7\" class=\"edge\"><title>6&#45;&gt;7</title>\r\n",
       "<path fill=\"none\" stroke=\"black\" d=\"M608.403,-192.884C607.566,-182.216 606.635,-170.352 605.786,-159.519\"/>\r\n",
       "<polygon fill=\"black\" stroke=\"black\" points=\"609.273,-159.216 605.002,-149.52 602.294,-159.763 609.273,-159.216\"/>\r\n",
       "</g>\r\n",
       "<!-- 8 -->\r\n",
       "<g id=\"node9\" class=\"node\"><title>8</title>\r\n",
       "<polygon fill=\"none\" stroke=\"black\" points=\"912.5,-157 709.5,-157 709.5,-89 912.5,-89 912.5,-157\"/>\r\n",
       "<text text-anchor=\"middle\" x=\"811\" y=\"-141.8\" font-family=\"Times New Roman,serif\" font-size=\"14.00\">X[1] &lt;= 4.5</text>\r\n",
       "<text text-anchor=\"middle\" x=\"811\" y=\"-126.8\" font-family=\"Times New Roman,serif\" font-size=\"14.00\">gini = 0.658</text>\r\n",
       "<text text-anchor=\"middle\" x=\"811\" y=\"-111.8\" font-family=\"Times New Roman,serif\" font-size=\"14.00\">samples = 1039</text>\r\n",
       "<text text-anchor=\"middle\" x=\"811\" y=\"-96.8\" font-family=\"Times New Roman,serif\" font-size=\"14.00\">value = [0, 0, 0, 0, 411, 353, 275]</text>\r\n",
       "</g>\r\n",
       "<!-- 6&#45;&gt;8 -->\r\n",
       "<g id=\"edge8\" class=\"edge\"><title>6&#45;&gt;8</title>\r\n",
       "<path fill=\"none\" stroke=\"black\" d=\"M675.934,-192.884C695.42,-182.946 716.939,-171.971 736.966,-161.757\"/>\r\n",
       "<polygon fill=\"black\" stroke=\"black\" points=\"738.731,-164.786 746.05,-157.125 735.551,-158.55 738.731,-164.786\"/>\r\n",
       "</g>\r\n",
       "<!-- 9 -->\r\n",
       "<g id=\"node10\" class=\"node\"><title>9</title>\r\n",
       "<polygon fill=\"none\" stroke=\"black\" points=\"798,-53 622,-53 622,-0 798,-0 798,-53\"/>\r\n",
       "<text text-anchor=\"middle\" x=\"710\" y=\"-37.8\" font-family=\"Times New Roman,serif\" font-size=\"14.00\">gini = 0.0</text>\r\n",
       "<text text-anchor=\"middle\" x=\"710\" y=\"-22.8\" font-family=\"Times New Roman,serif\" font-size=\"14.00\">samples = 411</text>\r\n",
       "<text text-anchor=\"middle\" x=\"710\" y=\"-7.8\" font-family=\"Times New Roman,serif\" font-size=\"14.00\">value = [0, 0, 0, 0, 411, 0, 0]</text>\r\n",
       "</g>\r\n",
       "<!-- 8&#45;&gt;9 -->\r\n",
       "<g id=\"edge9\" class=\"edge\"><title>8&#45;&gt;9</title>\r\n",
       "<path fill=\"none\" stroke=\"black\" d=\"M775.675,-88.9485C765.702,-79.6175 754.859,-69.4722 744.911,-60.1641\"/>\r\n",
       "<polygon fill=\"black\" stroke=\"black\" points=\"747.2,-57.5132 737.507,-53.2367 742.418,-62.6247 747.2,-57.5132\"/>\r\n",
       "</g>\r\n",
       "<!-- 10 -->\r\n",
       "<g id=\"node11\" class=\"node\"><title>10</title>\r\n",
       "<polygon fill=\"none\" stroke=\"black\" points=\"1005.5,-53 816.5,-53 816.5,-0 1005.5,-0 1005.5,-53\"/>\r\n",
       "<text text-anchor=\"middle\" x=\"911\" y=\"-37.8\" font-family=\"Times New Roman,serif\" font-size=\"14.00\">gini = 0.492</text>\r\n",
       "<text text-anchor=\"middle\" x=\"911\" y=\"-22.8\" font-family=\"Times New Roman,serif\" font-size=\"14.00\">samples = 628</text>\r\n",
       "<text text-anchor=\"middle\" x=\"911\" y=\"-7.8\" font-family=\"Times New Roman,serif\" font-size=\"14.00\">value = [0, 0, 0, 0, 0, 353, 275]</text>\r\n",
       "</g>\r\n",
       "<!-- 8&#45;&gt;10 -->\r\n",
       "<g id=\"edge10\" class=\"edge\"><title>8&#45;&gt;10</title>\r\n",
       "<path fill=\"none\" stroke=\"black\" d=\"M845.975,-88.9485C855.849,-79.6175 866.585,-69.4722 876.435,-60.1641\"/>\r\n",
       "<polygon fill=\"black\" stroke=\"black\" points=\"878.901,-62.649 883.765,-53.2367 874.093,-57.5613 878.901,-62.649\"/>\r\n",
       "</g>\r\n",
       "</g>\r\n",
       "</svg>\r\n"
      ],
      "text/plain": [
       "<graphviz.files.Source at 0x19b622e5c50>"
      ]
     },
     "execution_count": 39,
     "metadata": {},
     "output_type": "execute_result"
    }
   ],
   "source": [
    "dados = tree.export_graphviz(clf2, out_file=None)\n",
    "grafo = graphviz.Source(dados)\n",
    "grafo"
   ]
  },
  {
   "cell_type": "code",
   "execution_count": null,
   "metadata": {},
   "outputs": [],
   "source": []
  }
 ],
 "metadata": {
  "kernelspec": {
   "display_name": "Python 3",
   "language": "python",
   "name": "python3"
  },
  "language_info": {
   "codemirror_mode": {
    "name": "ipython",
    "version": 3
   },
   "file_extension": ".py",
   "mimetype": "text/x-python",
   "name": "python",
   "nbconvert_exporter": "python",
   "pygments_lexer": "ipython3",
   "version": "3.7.1"
  }
 },
 "nbformat": 4,
 "nbformat_minor": 2
}
